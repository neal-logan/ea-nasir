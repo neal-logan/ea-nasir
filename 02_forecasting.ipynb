{
 "cells": [
  {
   "cell_type": "markdown",
   "metadata": {},
   "source": [
    "## 02 Forecasting"
   ]
  },
  {
   "cell_type": "markdown",
   "metadata": {},
   "source": [
    "### Overview"
   ]
  },
  {
   "cell_type": "markdown",
   "metadata": {},
   "source": [
    "### Load Data"
   ]
  },
  {
   "cell_type": "code",
   "execution_count": null,
   "metadata": {},
   "outputs": [],
   "source": [
    "import skforecast\n",
    "import pmdarima"
   ]
  },
  {
   "cell_type": "code",
   "execution_count": null,
   "metadata": {},
   "outputs": [],
   "source": []
  },
  {
   "cell_type": "markdown",
   "metadata": {},
   "source": [
    "### Linear Plots & Stationarity Analysis"
   ]
  },
  {
   "cell_type": "markdown",
   "metadata": {},
   "source": [
    "For forecasting, features should be stationary, meaning that no significant trends or seasonal patterns should be present in the data.  The mean and variance should be consistent throughout the time period.\n",
    "\n",
    "No features are stationary without differencing.  The trends are enormous, and while seasonality is difficult to detect at this level, it's almost certainly present.  Many of these look pretty good at first differencing, but some definitely need to be differenced at least one more time."
   ]
  },
  {
   "cell_type": "code",
   "execution_count": null,
   "metadata": {},
   "outputs": [],
   "source": [
    "column_list = [\n",
    "    'DATE',\n",
    "    'copper_PRICE',\n",
    "    'CONSUMER_SENTIMENT',\n",
    "    'r2000_PRICE',\n",
    "    'UNEMPLOYMENT',\n",
    "    'HOUSE_STARTS'\n",
    "]\n",
    "df = dev_data.select(column_list).to_pandas()\n",
    "df['DATE'] = pd.to_datetime(df['DATE'])\n",
    "df = df.sort_values('DATE')\n",
    "fig, axes = vis.plot_time_series_diffs(df)"
   ]
  },
  {
   "cell_type": "markdown",
   "metadata": {},
   "source": [
    "##### Common Stationarity Tests"
   ]
  },
  {
   "cell_type": "code",
   "execution_count": null,
   "metadata": {},
   "outputs": [],
   "source": [
    "# TODO add functional stationarity tests & interpretation\n",
    "from statsmodels.tsa.stattools import adfuller\n",
    "from statsmodels.tsa.stattools import kpss\n",
    "adfuller(df['copper_PRICE'])"
   ]
  },
  {
   "cell_type": "code",
   "execution_count": null,
   "metadata": {},
   "outputs": [],
   "source": [
    "stationarity_tests = {\n",
    "    'adfuller' :  adfuller(df['copper_Price']),\n",
    "    'kpss' : kpss(df['copper_Price']) \n",
    "}"
   ]
  },
  {
   "cell_type": "markdown",
   "metadata": {},
   "source": [
    "### Baseline Models"
   ]
  },
  {
   "cell_type": "markdown",
   "metadata": {},
   "source": [
    "Key tools:\n",
    "- [skforecast](https://skforecast.org/)\n",
    "- [pmdarima](https://github.com/alkaline-ml/pmdarima)\n",
    "- [sklearn scaling]()"
   ]
  },
  {
   "cell_type": "code",
   "execution_count": null,
   "metadata": {},
   "outputs": [],
   "source": [
    "from skforecast.sarimax import Sarimax\n",
    "from sklearn.preprocessing import StandardScaler"
   ]
  },
  {
   "cell_type": "markdown",
   "metadata": {},
   "source": [
    "##### Remove Nontrading Days"
   ]
  },
  {
   "cell_type": "markdown",
   "metadata": {},
   "source": [
    "At this point, all required lags and moving-average values have been calculated.  For calculating deltas, we will only want trading days. "
   ]
  },
  {
   "cell_type": "code",
   "execution_count": null,
   "metadata": {},
   "outputs": [],
   "source": []
  },
  {
   "cell_type": "markdown",
   "metadata": {},
   "source": [
    "Pure ARIMA model"
   ]
  },
  {
   "cell_type": "markdown",
   "metadata": {},
   "source": []
  },
  {
   "cell_type": "code",
   "execution_count": null,
   "metadata": {},
   "outputs": [],
   "source": [
    "df = dev_data.to_pandas()\n",
    "df['DATE'] = pd.to_datetime(df['DATE'])\n",
    "pdq = (1,1,1) # p autoregression lags, d differences, q moving average\n",
    "model = Sarimax(order = pdq)\n",
    "model.fit(\n",
    "    y = df['COPPER_PRICE'])\n",
    "model.summary()"
   ]
  },
  {
   "cell_type": "markdown",
   "metadata": {},
   "source": [
    "Simple ARIMAX model"
   ]
  },
  {
   "cell_type": "code",
   "execution_count": null,
   "metadata": {},
   "outputs": [],
   "source": [
    "df = dev_data.to_pandas()\n",
    "exog_cols = [col for col in df.columns if '_OPEN' in col]\n",
    "exog = df[exog_cols]\n",
    "pdq = (1,1,1) # p autoregression lags, d differences, q moving average\n",
    "model = Sarimax(order = pdq)\n",
    "model.fit(\n",
    "    y = df['COPPER_PRICE'],\n",
    "    exog = exog)\n",
    "model.summary()"
   ]
  },
  {
   "cell_type": "code",
   "execution_count": null,
   "metadata": {},
   "outputs": [],
   "source": [
    "df = dev_data.to_pandas()\n",
    "(df['COPPER_OPEN'] - df['COPPER_OPEN'].mean())/df['COPPER_OPEN'].std()"
   ]
  },
  {
   "cell_type": "code",
   "execution_count": null,
   "metadata": {},
   "outputs": [],
   "source": [
    "df = dev_data.to_pandas()\n",
    "exog_cols = [col for col in df.columns if '_OPEN' in col]\n",
    "exog = df[exog_cols]\n",
    "exog = exog.drop(['NATGAS_OPEN','GOLD_OPEN','CORN_OPEN'], axis='columns')\n",
    "exog = (exog - exog.mean())/exog.std()\n",
    "\n",
    "target = df['COPPER_PRICE']\n",
    "target = (target - target.mean())/target.std()\n",
    "\n",
    "pdq = (1,1,1) # p autoregression lags, d differences, q moving average\n",
    "model = Sarimax(order = pdq)\n",
    "model.fit(\n",
    "    y = target,\n",
    "    exog = exog)\n",
    "model.summary()"
   ]
  },
  {
   "cell_type": "markdown",
   "metadata": {},
   "source": [
    "### Feature Engineering"
   ]
  }
 ],
 "metadata": {
  "language_info": {
   "name": "python"
  }
 },
 "nbformat": 4,
 "nbformat_minor": 2
}
