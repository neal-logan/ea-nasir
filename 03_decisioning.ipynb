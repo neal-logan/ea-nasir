{
 "cells": [
  {
   "cell_type": "markdown",
   "metadata": {},
   "source": [
    "## 03 Decisioning"
   ]
  },
  {
   "cell_type": "markdown",
   "metadata": {},
   "source": [
    "Copper Day Trader - Daily Directional Trading"
   ]
  },
  {
   "cell_type": "markdown",
   "metadata": {},
   "source": [
    "### Imports"
   ]
  },
  {
   "cell_type": "code",
   "execution_count": null,
   "metadata": {},
   "outputs": [],
   "source": [
    "import numpy as np\n",
    "import pandas as pd\n",
    "import ibis\n",
    "import matplotlib.pyplot as plt\n",
    "import methods.prep as prep\n",
    "import methods.vis as vis\n",
    "import methods.fc as fc\n",
    "import methods.sim as sim\n",
    "import importlib"
   ]
  },
  {
   "cell_type": "markdown",
   "metadata": {},
   "source": [
    "### Load Data"
   ]
  },
  {
   "cell_type": "code",
   "execution_count": null,
   "metadata": {},
   "outputs": [],
   "source": [
    "con = ibis.connect(\"duckdb://\")\n",
    "dev_data = ibis.read_csv('data_decisioning/dev_data.csv')"
   ]
  },
  {
   "cell_type": "markdown",
   "metadata": {},
   "source": [
    "### Run Forecasting & Enrichment - Development"
   ]
  },
  {
   "cell_type": "code",
   "execution_count": null,
   "metadata": {},
   "outputs": [],
   "source": [
    "dev_df = dev_data.to_pandas()\n",
    "dev_df['DATE'] = pd.to_datetime(dev_df['DATE'])\n",
    "dev_df = dev_df.sort_values('DATE')"
   ]
  },
  {
   "cell_type": "code",
   "execution_count": null,
   "metadata": {},
   "outputs": [],
   "source": [
    "columns = [\n",
    "    'DATE',\n",
    "    'COPPER_OPEN_NOMINAL',\n",
    "    'COPPER_OPEN_NOMINAL_PRED',\n",
    "    'COPPER_OPEN_NOMINAL_DELTA',\n",
    "    'COPPER_OPEN_NOMINAL_DELTA_PRED',\n",
    "    'COPPER_OPEN_NOMINAL_PROPDELTA',\n",
    "    'COPPER_OPEN_NOMINAL_PROPDELTA_PRED']\n",
    "\n",
    "dev_df[columns]"
   ]
  },
  {
   "cell_type": "code",
   "execution_count": null,
   "metadata": {},
   "outputs": [],
   "source": [
    "#Limit to 2008-2019 due to NaNs; drop remaining NaNs if any\n",
    "dev_df = dev_df[dev_df['DATE'].dt.year >= 2008].dropna()"
   ]
  },
  {
   "cell_type": "markdown",
   "metadata": {},
   "source": [
    "Create bins for predicted price deltas for the decisioning model to act on"
   ]
  },
  {
   "cell_type": "code",
   "execution_count": null,
   "metadata": {},
   "outputs": [],
   "source": [
    "def value_to_bin(x : float,\n",
    "             breakpoints : list)->int:\n",
    "\n",
    "    bin = 0\n",
    "    for breakpoint in breakpoints:\n",
    "        if x < breakpoint:\n",
    "            return bin\n",
    "        bin = bin + 1\n",
    "    return bin\n",
    "\n",
    "def values_to_bins(\n",
    "        df : pd.DataFrame,\n",
    "        breakpoints : list,\n",
    "        target_col : str)->pd.DataFrame:\n",
    "    \n",
    "    df[target_col + '_BIN'] = df[target_col].apply(lambda x : value_to_bin(x, breakpoints))\n",
    "    return df"
   ]
  },
  {
   "cell_type": "code",
   "execution_count": null,
   "metadata": {},
   "outputs": [],
   "source": [
    "# Calculate breakpoints to divide predicted proportional deltas into buckets according to quantiles\n",
    "breakpoints = list(dev_df['COPPER_OPEN_NOMINAL_PROPDELTA_PRED'].quantile([x/11.0 for x in range(1,11)]))\n",
    "breakpoints"
   ]
  },
  {
   "cell_type": "code",
   "execution_count": null,
   "metadata": {},
   "outputs": [],
   "source": [
    "# Add a column with the new bins\n",
    "dev_df = values_to_bins(dev_df,\n",
    "    breakpoints,\n",
    "    'COPPER_OPEN_NOMINAL_PROPDELTA_PRED',)\n",
    "\n",
    "columns = [\n",
    "    'DATE',\n",
    "    'COPPER_OPEN_NOMINAL_PROPDELTA_PRED',\n",
    "    'COPPER_OPEN_NOMINAL_PROPDELTA_PRED_BIN']\n",
    "\n",
    "dev_df[columns]"
   ]
  },
  {
   "cell_type": "code",
   "execution_count": null,
   "metadata": {},
   "outputs": [],
   "source": [
    "from time import sleep\n",
    "\n",
    "importlib.reload(sim)\n",
    "\n",
    "agent = sim.PortfolioAgent(\n",
    "    data = dev_df[columns],\n",
    "    date_col= 'DATE',\n",
    "    price_delta_pred_bins_col = 'COPPER_OPEN_NOMINAL_PROPDELTA_PRED_BIN',\n",
    "    price_delta_col = 'COPPER_OPEN_NOMINAL_PROPDELTA_PRED',\n",
    "    learning_rate = 1, \n",
    "    explore_chance = 0.3, #Chance to take a random (legal) action\n",
    "    rebalance_limit_steps = 2,  # Determine how far asset balances can be changed with each action\n",
    "    asset_balance_steps = [x/10.0 for x in range(11)],)  # Possible asset balances; 0 is all cash, 1 is all copper futures)\n",
    "\n",
    "while agent.step(exploring=True, learning=True):\n",
    "    print('Timestep:  '  + str(agent.current_step))\n",
    "    print('Date:  ' +  str(agent.data[agent.date_col].iat[agent.current_step]))\n",
    "    print('Asset Balance:  '  + str(agent.asset_balance_at_open_ind[agent.current_step]*10) + '% Copper Futures (the rest is cash)' )\n",
    "    print('Portfolio Value:  USD ' + str(agent.portfolio_value[agent.current_step]))\n",
    "\n",
    "\n",
    "    "
   ]
  },
  {
   "cell_type": "code",
   "execution_count": null,
   "metadata": {},
   "outputs": [],
   "source": [
    "importlib.reload(vis)\n",
    "vis.plot_time_series(agent.data['DATE'],\n",
    "                     agent.portfolio_value)"
   ]
  },
  {
   "cell_type": "code",
   "execution_count": null,
   "metadata": {},
   "outputs": [],
   "source": [
    "agent.print_model()"
   ]
  },
  {
   "cell_type": "code",
   "execution_count": null,
   "metadata": {},
   "outputs": [],
   "source": [
    "# Takes about a minute\n",
    "# Run experiment with 500 agents\n",
    "\n",
    "importlib.reload(sim)\n",
    "portfolio_values = []\n",
    "for i in range(500):\n",
    "    agent = sim.PortfolioAgent(\n",
    "        data = dev_df[columns],\n",
    "        date_col= 'DATE',\n",
    "        price_delta_pred_bins_col = 'COPPER_OPEN_NOMINAL_PROPDELTA_PRED_BIN',\n",
    "        price_delta_col = 'COPPER_OPEN_NOMINAL_PROPDELTA_PRED',\n",
    "        learning_rate = 1, \n",
    "        explore_chance = 0.3, #Chance to take a random (legal) action\n",
    "        rebalance_limit_steps = 2,  # Determine how far asset balances can be changed with each action\n",
    "        asset_balance_steps = [x/10.0 for x in range(11)],)  # Possible asset balances; 0 is all cash, 1 is all copper futures)\n",
    "\n",
    "    while True:\n",
    "        if not agent.step(exploring=True, learning=True):\n",
    "            break\n",
    "\n",
    "    print('Agent ' + str(i) + ' complete')\n",
    "    portfolio_values.append(agent.portfolio_value[agent.current_step])\n"
   ]
  },
  {
   "cell_type": "code",
   "execution_count": null,
   "metadata": {},
   "outputs": [],
   "source": [
    "np.median(portfolio_values)"
   ]
  },
  {
   "cell_type": "code",
   "execution_count": null,
   "metadata": {},
   "outputs": [],
   "source": [
    "np.mean(portfolio_values)"
   ]
  }
 ],
 "metadata": {
  "kernelspec": {
   "display_name": "Python 3",
   "language": "python",
   "name": "python3"
  },
  "language_info": {
   "codemirror_mode": {
    "name": "ipython",
    "version": 3
   },
   "file_extension": ".py",
   "mimetype": "text/x-python",
   "name": "python",
   "nbconvert_exporter": "python",
   "pygments_lexer": "ipython3",
   "version": "3.11.9"
  }
 },
 "nbformat": 4,
 "nbformat_minor": 2
}
