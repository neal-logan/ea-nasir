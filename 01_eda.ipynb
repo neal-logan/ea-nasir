{
 "cells": [
  {
   "cell_type": "markdown",
   "metadata": {},
   "source": [
    "### 01 Exploratory Data Analysis"
   ]
  },
  {
   "cell_type": "markdown",
   "metadata": {},
   "source": [
    "##### Overview"
   ]
  },
  {
   "cell_type": "markdown",
   "metadata": {},
   "source": [
    "**Data Selection:** Almost anything might help predict commodities prices and a colossal range of potentially-relevant datasets are available.  Based on the assumptions and strategies outlined [here](README.md), the following criteria for selecting data are used:\n",
    "* Must be consistently availabe to inform the model at decision-time\n",
    "* Must be publicly available\n",
    "\n",
    "* Previous price data for target commodities\n",
    "*  \n"
   ]
  },
  {
   "cell_type": "markdown",
   "metadata": {},
   "source": []
  },
  {
   "cell_type": "markdown",
   "metadata": {},
   "source": [
    "##### Environment"
   ]
  },
  {
   "cell_type": "code",
   "execution_count": null,
   "metadata": {},
   "outputs": [
    {
     "name": "stdout",
     "output_type": "stream",
     "text": [
      "Requirement already satisfied: pandas in c:\\users\\haits\\appdata\\local\\packages\\pythonsoftwarefoundation.python.3.11_qbz5n2kfra8p0\\localcache\\local-packages\\python311\\site-packages (from -r requirements.txt (line 3)) (2.2.3)\n",
      "Requirement already satisfied: ibis-framework[duckdb] in c:\\users\\haits\\appdata\\local\\packages\\pythonsoftwarefoundation.python.3.11_qbz5n2kfra8p0\\localcache\\local-packages\\python311\\site-packages (from -r requirements.txt (line 2)) (9.5.0)\n",
      "Requirement already satisfied: atpublic<6,>=2.3 in c:\\users\\haits\\appdata\\local\\packages\\pythonsoftwarefoundation.python.3.11_qbz5n2kfra8p0\\localcache\\local-packages\\python311\\site-packages (from ibis-framework[duckdb]->-r requirements.txt (line 2)) (5.0)\n",
      "Requirement already satisfied: duckdb<1.2,>=0.8.1 in c:\\users\\haits\\appdata\\local\\packages\\pythonsoftwarefoundation.python.3.11_qbz5n2kfra8p0\\localcache\\local-packages\\python311\\site-packages (from ibis-framework[duckdb]->-r requirements.txt (line 2)) (1.1.3)\n",
      "Requirement already satisfied: numpy<3,>=1.23.2 in c:\\users\\haits\\appdata\\local\\packages\\pythonsoftwarefoundation.python.3.11_qbz5n2kfra8p0\\localcache\\local-packages\\python311\\site-packages (from ibis-framework[duckdb]->-r requirements.txt (line 2)) (2.1.3)\n",
      "Requirement already satisfied: packaging<25,>=21.3 in c:\\users\\haits\\appdata\\local\\packages\\pythonsoftwarefoundation.python.3.11_qbz5n2kfra8p0\\localcache\\local-packages\\python311\\site-packages (from ibis-framework[duckdb]->-r requirements.txt (line 2)) (24.2)\n",
      "Requirement already satisfied: parsy<3,>=2 in c:\\users\\haits\\appdata\\local\\packages\\pythonsoftwarefoundation.python.3.11_qbz5n2kfra8p0\\localcache\\local-packages\\python311\\site-packages (from ibis-framework[duckdb]->-r requirements.txt (line 2)) (2.1)\n",
      "Requirement already satisfied: pyarrow<18,>=10.0.1 in c:\\users\\haits\\appdata\\local\\packages\\pythonsoftwarefoundation.python.3.11_qbz5n2kfra8p0\\localcache\\local-packages\\python311\\site-packages (from ibis-framework[duckdb]->-r requirements.txt (line 2)) (17.0.0)\n",
      "Requirement already satisfied: pyarrow-hotfix<1,>=0.4 in c:\\users\\haits\\appdata\\local\\packages\\pythonsoftwarefoundation.python.3.11_qbz5n2kfra8p0\\localcache\\local-packages\\python311\\site-packages (from ibis-framework[duckdb]->-r requirements.txt (line 2)) (0.6)\n",
      "Requirement already satisfied: python-dateutil<3,>=2.8.2 in c:\\users\\haits\\appdata\\local\\packages\\pythonsoftwarefoundation.python.3.11_qbz5n2kfra8p0\\localcache\\local-packages\\python311\\site-packages (from ibis-framework[duckdb]->-r requirements.txt (line 2)) (2.9.0.post0)\n",
      "Requirement already satisfied: pytz>=2022.7 in c:\\users\\haits\\appdata\\local\\packages\\pythonsoftwarefoundation.python.3.11_qbz5n2kfra8p0\\localcache\\local-packages\\python311\\site-packages (from ibis-framework[duckdb]->-r requirements.txt (line 2)) (2024.2)\n",
      "Requirement already satisfied: rich<14,>=12.4.4 in c:\\users\\haits\\appdata\\local\\packages\\pythonsoftwarefoundation.python.3.11_qbz5n2kfra8p0\\localcache\\local-packages\\python311\\site-packages (from ibis-framework[duckdb]->-r requirements.txt (line 2)) (13.9.4)\n",
      "Requirement already satisfied: sqlglot<25.21,>=23.4 in c:\\users\\haits\\appdata\\local\\packages\\pythonsoftwarefoundation.python.3.11_qbz5n2kfra8p0\\localcache\\local-packages\\python311\\site-packages (from ibis-framework[duckdb]->-r requirements.txt (line 2)) (25.20.2)\n",
      "Requirement already satisfied: toolz<1,>=0.11 in c:\\users\\haits\\appdata\\local\\packages\\pythonsoftwarefoundation.python.3.11_qbz5n2kfra8p0\\localcache\\local-packages\\python311\\site-packages (from ibis-framework[duckdb]->-r requirements.txt (line 2)) (0.12.1)\n",
      "Requirement already satisfied: typing-extensions<5,>=4.3.0 in c:\\users\\haits\\appdata\\local\\packages\\pythonsoftwarefoundation.python.3.11_qbz5n2kfra8p0\\localcache\\local-packages\\python311\\site-packages (from ibis-framework[duckdb]->-r requirements.txt (line 2)) (4.12.2)\n",
      "Requirement already satisfied: tzdata>=2022.7 in c:\\users\\haits\\appdata\\local\\packages\\pythonsoftwarefoundation.python.3.11_qbz5n2kfra8p0\\localcache\\local-packages\\python311\\site-packages (from pandas->-r requirements.txt (line 3)) (2024.2)\n",
      "Requirement already satisfied: six>=1.5 in c:\\users\\haits\\appdata\\local\\packages\\pythonsoftwarefoundation.python.3.11_qbz5n2kfra8p0\\localcache\\local-packages\\python311\\site-packages (from python-dateutil<3,>=2.8.2->ibis-framework[duckdb]->-r requirements.txt (line 2)) (1.16.0)\n",
      "Requirement already satisfied: markdown-it-py>=2.2.0 in c:\\users\\haits\\appdata\\local\\packages\\pythonsoftwarefoundation.python.3.11_qbz5n2kfra8p0\\localcache\\local-packages\\python311\\site-packages (from rich<14,>=12.4.4->ibis-framework[duckdb]->-r requirements.txt (line 2)) (3.0.0)\n",
      "Requirement already satisfied: pygments<3.0.0,>=2.13.0 in c:\\users\\haits\\appdata\\local\\packages\\pythonsoftwarefoundation.python.3.11_qbz5n2kfra8p0\\localcache\\local-packages\\python311\\site-packages (from rich<14,>=12.4.4->ibis-framework[duckdb]->-r requirements.txt (line 2)) (2.18.0)\n",
      "Requirement already satisfied: mdurl~=0.1 in c:\\users\\haits\\appdata\\local\\packages\\pythonsoftwarefoundation.python.3.11_qbz5n2kfra8p0\\localcache\\local-packages\\python311\\site-packages (from markdown-it-py>=2.2.0->rich<14,>=12.4.4->ibis-framework[duckdb]->-r requirements.txt (line 2)) (0.1.2)\n"
     ]
    }
   ],
   "source": [
    "# Designed for Python 3.11.9\n",
    "!python -m pip install -r requirements.txt --upgrade"
   ]
  },
  {
   "cell_type": "code",
   "execution_count": null,
   "metadata": {},
   "outputs": [],
   "source": [
    "# Alternative for running in Colab etc\n",
    "!python -m pip install --upgrade pip\n",
    "!python -m pip install ibis-framework[duckdb] --upgrade"
   ]
  },
  {
   "cell_type": "code",
   "execution_count": 17,
   "metadata": {},
   "outputs": [
    {
     "name": "stderr",
     "output_type": "stream",
     "text": [
      "ERROR: Could not find a version that satisfies the requirement PiML==0.6.0 (from versions: none)\n",
      "ERROR: No matching distribution found for PiML==0.6.0\n"
     ]
    }
   ],
   "source": [
    "!pip install PiML==0.6.0"
   ]
  },
  {
   "cell_type": "markdown",
   "metadata": {},
   "source": [
    "##### Load Data"
   ]
  },
  {
   "cell_type": "code",
   "execution_count": 1,
   "metadata": {},
   "outputs": [],
   "source": [
    "import ibis\n",
    "ibis.options.interactive = True\n",
    "con = ibis.connect(\"duckdb://\")"
   ]
  },
  {
   "cell_type": "code",
   "execution_count": null,
   "metadata": {},
   "outputs": [
    {
     "name": "stdout",
     "output_type": "stream",
     "text": [
      "hg: (436, 7)\n",
      "brent: (437, 7)\n",
      "umcsent: (561, 2)\n"
     ]
    }
   ],
   "source": [
    "# TODO change this to get data from Github\n",
    "path = 'datasets/'\n",
    "\n",
    "csvs = [\n",
    "    'hg', # US copper on COMEX, USD/pound\n",
    "    'brent', # Brent crude oil, USD/barrel\n",
    "    'umcsent', # US consumer sentiment, as measured by the University of Michigan\n",
    "]\n",
    "\n",
    "datasets = {}\n",
    "\n",
    "for filename in csvs:\n",
    "    datasets[filename] = ibis.read_csv(path + filename + '.csv')\n",
    "    print(filename + ': ' + str(datasets[filename].to_pandas().shape))\n",
    "    "
   ]
  },
  {
   "cell_type": "markdown",
   "metadata": {},
   "source": [
    "##### Summary Statistics"
   ]
  },
  {
   "cell_type": "code",
   "execution_count": 10,
   "metadata": {},
   "outputs": [
    {
     "data": {
      "text/html": [
       "<div>\n",
       "<style scoped>\n",
       "    .dataframe tbody tr th:only-of-type {\n",
       "        vertical-align: middle;\n",
       "    }\n",
       "\n",
       "    .dataframe tbody tr th {\n",
       "        vertical-align: top;\n",
       "    }\n",
       "\n",
       "    .dataframe thead th {\n",
       "        text-align: right;\n",
       "    }\n",
       "</style>\n",
       "<table border=\"1\" class=\"dataframe\">\n",
       "  <thead>\n",
       "    <tr style=\"text-align: right;\">\n",
       "      <th></th>\n",
       "      <th>count</th>\n",
       "      <th>unique</th>\n",
       "      <th>top</th>\n",
       "      <th>freq</th>\n",
       "      <th>mean</th>\n",
       "      <th>std</th>\n",
       "      <th>min</th>\n",
       "      <th>25%</th>\n",
       "      <th>50%</th>\n",
       "      <th>75%</th>\n",
       "      <th>max</th>\n",
       "    </tr>\n",
       "  </thead>\n",
       "  <tbody>\n",
       "    <tr>\n",
       "      <th>Date</th>\n",
       "      <td>436</td>\n",
       "      <td>436</td>\n",
       "      <td>1988-01-08</td>\n",
       "      <td>1</td>\n",
       "      <td>NaN</td>\n",
       "      <td>NaN</td>\n",
       "      <td>NaN</td>\n",
       "      <td>NaN</td>\n",
       "      <td>NaN</td>\n",
       "      <td>NaN</td>\n",
       "      <td>NaN</td>\n",
       "    </tr>\n",
       "    <tr>\n",
       "      <th>Price</th>\n",
       "      <td>436.0</td>\n",
       "      <td>NaN</td>\n",
       "      <td>NaN</td>\n",
       "      <td>NaN</td>\n",
       "      <td>2.176692</td>\n",
       "      <td>1.242033</td>\n",
       "      <td>0.0125</td>\n",
       "      <td>1.011375</td>\n",
       "      <td>2.07275</td>\n",
       "      <td>3.300125</td>\n",
       "      <td>4.752</td>\n",
       "    </tr>\n",
       "    <tr>\n",
       "      <th>Open</th>\n",
       "      <td>436.0</td>\n",
       "      <td>NaN</td>\n",
       "      <td>NaN</td>\n",
       "      <td>NaN</td>\n",
       "      <td>2.173623</td>\n",
       "      <td>1.236597</td>\n",
       "      <td>0.627</td>\n",
       "      <td>1.014</td>\n",
       "      <td>2.065</td>\n",
       "      <td>3.29575</td>\n",
       "      <td>4.717</td>\n",
       "    </tr>\n",
       "    <tr>\n",
       "      <th>High</th>\n",
       "      <td>436.0</td>\n",
       "      <td>NaN</td>\n",
       "      <td>NaN</td>\n",
       "      <td>NaN</td>\n",
       "      <td>2.286661</td>\n",
       "      <td>1.306242</td>\n",
       "      <td>0.654</td>\n",
       "      <td>1.05025</td>\n",
       "      <td>2.211</td>\n",
       "      <td>3.406375</td>\n",
       "      <td>5.187</td>\n",
       "    </tr>\n",
       "    <tr>\n",
       "      <th>Low</th>\n",
       "      <td>436.0</td>\n",
       "      <td>NaN</td>\n",
       "      <td>NaN</td>\n",
       "      <td>NaN</td>\n",
       "      <td>2.06227</td>\n",
       "      <td>1.164979</td>\n",
       "      <td>0.608</td>\n",
       "      <td>0.97375</td>\n",
       "      <td>1.96975</td>\n",
       "      <td>3.07</td>\n",
       "      <td>4.4685</td>\n",
       "    </tr>\n",
       "    <tr>\n",
       "      <th>Vol.</th>\n",
       "      <td>430</td>\n",
       "      <td>417</td>\n",
       "      <td>5.80K</td>\n",
       "      <td>2</td>\n",
       "      <td>NaN</td>\n",
       "      <td>NaN</td>\n",
       "      <td>NaN</td>\n",
       "      <td>NaN</td>\n",
       "      <td>NaN</td>\n",
       "      <td>NaN</td>\n",
       "      <td>NaN</td>\n",
       "    </tr>\n",
       "    <tr>\n",
       "      <th>Change %</th>\n",
       "      <td>436</td>\n",
       "      <td>397</td>\n",
       "      <td>5.02%</td>\n",
       "      <td>3</td>\n",
       "      <td>NaN</td>\n",
       "      <td>NaN</td>\n",
       "      <td>NaN</td>\n",
       "      <td>NaN</td>\n",
       "      <td>NaN</td>\n",
       "      <td>NaN</td>\n",
       "      <td>NaN</td>\n",
       "    </tr>\n",
       "  </tbody>\n",
       "</table>\n",
       "</div>"
      ],
      "text/plain": [
       "          count unique         top freq      mean       std     min       25%  \\\n",
       "Date        436    436  1988-01-08    1       NaN       NaN     NaN       NaN   \n",
       "Price     436.0    NaN         NaN  NaN  2.176692  1.242033  0.0125  1.011375   \n",
       "Open      436.0    NaN         NaN  NaN  2.173623  1.236597   0.627     1.014   \n",
       "High      436.0    NaN         NaN  NaN  2.286661  1.306242   0.654   1.05025   \n",
       "Low       436.0    NaN         NaN  NaN   2.06227  1.164979   0.608   0.97375   \n",
       "Vol.        430    417       5.80K    2       NaN       NaN     NaN       NaN   \n",
       "Change %    436    397       5.02%    3       NaN       NaN     NaN       NaN   \n",
       "\n",
       "              50%       75%     max  \n",
       "Date          NaN       NaN     NaN  \n",
       "Price     2.07275  3.300125   4.752  \n",
       "Open        2.065   3.29575   4.717  \n",
       "High        2.211  3.406375   5.187  \n",
       "Low       1.96975      3.07  4.4685  \n",
       "Vol.          NaN       NaN     NaN  \n",
       "Change %      NaN       NaN     NaN  "
      ]
     },
     "execution_count": 10,
     "metadata": {},
     "output_type": "execute_result"
    }
   ],
   "source": [
    "datasets['hg'].to_pandas().describe(include='all').T"
   ]
  },
  {
   "cell_type": "code",
   "execution_count": 11,
   "metadata": {},
   "outputs": [
    {
     "data": {
      "text/html": [
       "<div>\n",
       "<style scoped>\n",
       "    .dataframe tbody tr th:only-of-type {\n",
       "        vertical-align: middle;\n",
       "    }\n",
       "\n",
       "    .dataframe tbody tr th {\n",
       "        vertical-align: top;\n",
       "    }\n",
       "\n",
       "    .dataframe thead th {\n",
       "        text-align: right;\n",
       "    }\n",
       "</style>\n",
       "<table border=\"1\" class=\"dataframe\">\n",
       "  <thead>\n",
       "    <tr style=\"text-align: right;\">\n",
       "      <th></th>\n",
       "      <th>count</th>\n",
       "      <th>unique</th>\n",
       "      <th>top</th>\n",
       "      <th>freq</th>\n",
       "      <th>mean</th>\n",
       "      <th>std</th>\n",
       "      <th>min</th>\n",
       "      <th>25%</th>\n",
       "      <th>50%</th>\n",
       "      <th>75%</th>\n",
       "      <th>max</th>\n",
       "    </tr>\n",
       "  </thead>\n",
       "  <tbody>\n",
       "    <tr>\n",
       "      <th>Date</th>\n",
       "      <td>437</td>\n",
       "      <td>437</td>\n",
       "      <td>1988-01-07</td>\n",
       "      <td>1</td>\n",
       "      <td>NaN</td>\n",
       "      <td>NaN</td>\n",
       "      <td>NaN</td>\n",
       "      <td>NaN</td>\n",
       "      <td>NaN</td>\n",
       "      <td>NaN</td>\n",
       "      <td>NaN</td>\n",
       "    </tr>\n",
       "    <tr>\n",
       "      <th>Price</th>\n",
       "      <td>437.0</td>\n",
       "      <td>NaN</td>\n",
       "      <td>NaN</td>\n",
       "      <td>NaN</td>\n",
       "      <td>51.654462</td>\n",
       "      <td>32.807121</td>\n",
       "      <td>10.46</td>\n",
       "      <td>19.84</td>\n",
       "      <td>48.61</td>\n",
       "      <td>75.2</td>\n",
       "      <td>139.83</td>\n",
       "    </tr>\n",
       "    <tr>\n",
       "      <th>Open</th>\n",
       "      <td>437.0</td>\n",
       "      <td>NaN</td>\n",
       "      <td>NaN</td>\n",
       "      <td>NaN</td>\n",
       "      <td>51.47135</td>\n",
       "      <td>32.73715</td>\n",
       "      <td>10.44</td>\n",
       "      <td>19.57</td>\n",
       "      <td>47.95</td>\n",
       "      <td>75.0</td>\n",
       "      <td>140.44</td>\n",
       "    </tr>\n",
       "    <tr>\n",
       "      <th>High</th>\n",
       "      <td>437.0</td>\n",
       "      <td>NaN</td>\n",
       "      <td>NaN</td>\n",
       "      <td>NaN</td>\n",
       "      <td>54.951213</td>\n",
       "      <td>34.549401</td>\n",
       "      <td>11.3</td>\n",
       "      <td>20.9</td>\n",
       "      <td>51.78</td>\n",
       "      <td>79.95</td>\n",
       "      <td>147.5</td>\n",
       "    </tr>\n",
       "    <tr>\n",
       "      <th>Low</th>\n",
       "      <td>437.0</td>\n",
       "      <td>NaN</td>\n",
       "      <td>NaN</td>\n",
       "      <td>NaN</td>\n",
       "      <td>47.986957</td>\n",
       "      <td>30.836172</td>\n",
       "      <td>9.55</td>\n",
       "      <td>18.73</td>\n",
       "      <td>43.03</td>\n",
       "      <td>70.77</td>\n",
       "      <td>121.32</td>\n",
       "    </tr>\n",
       "    <tr>\n",
       "      <th>Vol.</th>\n",
       "      <td>437</td>\n",
       "      <td>388</td>\n",
       "      <td>4.21M</td>\n",
       "      <td>4</td>\n",
       "      <td>NaN</td>\n",
       "      <td>NaN</td>\n",
       "      <td>NaN</td>\n",
       "      <td>NaN</td>\n",
       "      <td>NaN</td>\n",
       "      <td>NaN</td>\n",
       "      <td>NaN</td>\n",
       "    </tr>\n",
       "    <tr>\n",
       "      <th>Change %</th>\n",
       "      <td>437</td>\n",
       "      <td>399</td>\n",
       "      <td>10.28%</td>\n",
       "      <td>4</td>\n",
       "      <td>NaN</td>\n",
       "      <td>NaN</td>\n",
       "      <td>NaN</td>\n",
       "      <td>NaN</td>\n",
       "      <td>NaN</td>\n",
       "      <td>NaN</td>\n",
       "      <td>NaN</td>\n",
       "    </tr>\n",
       "  </tbody>\n",
       "</table>\n",
       "</div>"
      ],
      "text/plain": [
       "          count unique         top freq       mean        std    min    25%  \\\n",
       "Date        437    437  1988-01-07    1        NaN        NaN    NaN    NaN   \n",
       "Price     437.0    NaN         NaN  NaN  51.654462  32.807121  10.46  19.84   \n",
       "Open      437.0    NaN         NaN  NaN   51.47135   32.73715  10.44  19.57   \n",
       "High      437.0    NaN         NaN  NaN  54.951213  34.549401   11.3   20.9   \n",
       "Low       437.0    NaN         NaN  NaN  47.986957  30.836172   9.55  18.73   \n",
       "Vol.        437    388       4.21M    4        NaN        NaN    NaN    NaN   \n",
       "Change %    437    399      10.28%    4        NaN        NaN    NaN    NaN   \n",
       "\n",
       "            50%    75%     max  \n",
       "Date        NaN    NaN     NaN  \n",
       "Price     48.61   75.2  139.83  \n",
       "Open      47.95   75.0  140.44  \n",
       "High      51.78  79.95   147.5  \n",
       "Low       43.03  70.77  121.32  \n",
       "Vol.        NaN    NaN     NaN  \n",
       "Change %    NaN    NaN     NaN  "
      ]
     },
     "execution_count": 11,
     "metadata": {},
     "output_type": "execute_result"
    }
   ],
   "source": [
    "datasets['brent'].to_pandas().describe(include='all').T"
   ]
  },
  {
   "cell_type": "code",
   "execution_count": 12,
   "metadata": {},
   "outputs": [
    {
     "data": {
      "text/html": [
       "<div>\n",
       "<style scoped>\n",
       "    .dataframe tbody tr th:only-of-type {\n",
       "        vertical-align: middle;\n",
       "    }\n",
       "\n",
       "    .dataframe tbody tr th {\n",
       "        vertical-align: top;\n",
       "    }\n",
       "\n",
       "    .dataframe thead th {\n",
       "        text-align: right;\n",
       "    }\n",
       "</style>\n",
       "<table border=\"1\" class=\"dataframe\">\n",
       "  <thead>\n",
       "    <tr style=\"text-align: right;\">\n",
       "      <th></th>\n",
       "      <th>count</th>\n",
       "      <th>unique</th>\n",
       "      <th>top</th>\n",
       "      <th>freq</th>\n",
       "      <th>mean</th>\n",
       "      <th>std</th>\n",
       "      <th>min</th>\n",
       "      <th>25%</th>\n",
       "      <th>50%</th>\n",
       "      <th>75%</th>\n",
       "      <th>max</th>\n",
       "    </tr>\n",
       "  </thead>\n",
       "  <tbody>\n",
       "    <tr>\n",
       "      <th>DATE</th>\n",
       "      <td>561</td>\n",
       "      <td>561</td>\n",
       "      <td>2024-01-09</td>\n",
       "      <td>1</td>\n",
       "      <td>NaN</td>\n",
       "      <td>NaN</td>\n",
       "      <td>NaN</td>\n",
       "      <td>NaN</td>\n",
       "      <td>NaN</td>\n",
       "      <td>NaN</td>\n",
       "      <td>NaN</td>\n",
       "    </tr>\n",
       "    <tr>\n",
       "      <th>UMCSENT</th>\n",
       "      <td>561.0</td>\n",
       "      <td>NaN</td>\n",
       "      <td>NaN</td>\n",
       "      <td>NaN</td>\n",
       "      <td>84.771658</td>\n",
       "      <td>13.255908</td>\n",
       "      <td>50.0</td>\n",
       "      <td>74.1</td>\n",
       "      <td>88.4</td>\n",
       "      <td>94.6</td>\n",
       "      <td>112.0</td>\n",
       "    </tr>\n",
       "  </tbody>\n",
       "</table>\n",
       "</div>"
      ],
      "text/plain": [
       "         count unique         top freq       mean        std   min   25%  \\\n",
       "DATE       561    561  2024-01-09    1        NaN        NaN   NaN   NaN   \n",
       "UMCSENT  561.0    NaN         NaN  NaN  84.771658  13.255908  50.0  74.1   \n",
       "\n",
       "          50%   75%    max  \n",
       "DATE      NaN   NaN    NaN  \n",
       "UMCSENT  88.4  94.6  112.0  "
      ]
     },
     "execution_count": 12,
     "metadata": {},
     "output_type": "execute_result"
    }
   ],
   "source": [
    "datasets['umcsent'].to_pandas().describe(include='all').T"
   ]
  },
  {
   "cell_type": "markdown",
   "metadata": {},
   "source": [
    "##### Correlations"
   ]
  },
  {
   "cell_type": "code",
   "execution_count": null,
   "metadata": {},
   "outputs": [],
   "source": [
    "# Correlation Matrix"
   ]
  },
  {
   "cell_type": "code",
   "execution_count": null,
   "metadata": {},
   "outputs": [],
   "source": [
    "# Small Multiples - scatterplots"
   ]
  },
  {
   "cell_type": "code",
   "execution_count": null,
   "metadata": {},
   "outputs": [],
   "source": [
    "# Small Multiples - hexmaps"
   ]
  },
  {
   "cell_type": "code",
   "execution_count": null,
   "metadata": {},
   "outputs": [],
   "source": []
  },
  {
   "cell_type": "markdown",
   "metadata": {},
   "source": [
    "##### Experiemental Models"
   ]
  },
  {
   "cell_type": "code",
   "execution_count": null,
   "metadata": {},
   "outputs": [],
   "source": [
    "import pandas as pd\n",
    "from piml import Experiment\n",
    "from piml.models import XGB2Classifier"
   ]
  }
 ],
 "metadata": {
  "kernelspec": {
   "display_name": "Python 3",
   "language": "python",
   "name": "python3"
  },
  "language_info": {
   "codemirror_mode": {
    "name": "ipython",
    "version": 3
   },
   "file_extension": ".py",
   "mimetype": "text/x-python",
   "name": "python",
   "nbconvert_exporter": "python",
   "pygments_lexer": "ipython3",
   "version": "3.11.9"
  }
 },
 "nbformat": 4,
 "nbformat_minor": 2
}
